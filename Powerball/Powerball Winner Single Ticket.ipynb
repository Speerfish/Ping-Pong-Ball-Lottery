{
 "cells": [
  {
   "cell_type": "markdown",
   "metadata": {},
   "source": [
    "## Can we predict a Powerball winning ticket based only on the frequency of past winning numbers?"
   ]
  },
  {
   "cell_type": "markdown",
   "metadata": {},
   "source": [
    "## Step 1: Load the needed libraries."
   ]
  },
  {
   "cell_type": "code",
   "execution_count": 1,
   "metadata": {},
   "outputs": [],
   "source": [
    "import numpy as np\n",
    "import matplotlib.pyplot as plt\n",
    "import pandas as pd\n",
    "import random\n",
    "from collections import Counter"
   ]
  },
  {
   "cell_type": "markdown",
   "metadata": {},
   "source": [
    "## Step 2: Load the data"
   ]
  },
  {
   "cell_type": "code",
   "execution_count": 2,
   "metadata": {},
   "outputs": [],
   "source": [
    "dataset = pd.read_csv('PB-1992.csv')\n",
    "balls = dataset.iloc[:, 1:6].values\n",
    "powerball = dataset.iloc[:, -1].values"
   ]
  },
  {
   "cell_type": "markdown",
   "metadata": {},
   "source": [
    "## Step 3: Process the data"
   ]
  },
  {
   "cell_type": "code",
   "execution_count": 3,
   "metadata": {},
   "outputs": [],
   "source": [
    "# Pre-process data for algorithm\n",
    "X_balls = np.zeros((balls.shape[0], 69))\n",
    "\n",
    "# Adjust array size based on max value of Powerball\n",
    "X_powerball = np.zeros((powerball.shape[0], max(powerball)))  \n",
    "for i in range(powerball.shape[0]):\n",
    "    X_powerball[i, powerball[i] - 1] = 1\n",
    "\n",
    "for i in range(powerball.shape[0]):\n",
    "    X_powerball[i, powerball[i]-1] = 1\n",
    "\n",
    "random.seed(0)"
   ]
  },
  {
   "cell_type": "markdown",
   "metadata": {},
   "source": [
    "## Step 4: Predict five winning numbers"
   ]
  },
  {
   "cell_type": "code",
   "execution_count": 4,
   "metadata": {},
   "outputs": [],
   "source": [
    "# Predict 5 winning numbers\n",
    "N = balls.shape[0]\n",
    "d = 69\n",
    "num_selected = []\n",
    "numbers_of_rewards_1 = [0] * d\n",
    "numbers_of_rewards_0 = [0] * d\n",
    "for n in range(N):\n",
    "    max_random = 0\n",
    "    num = 0\n",
    "    for i in range(d):\n",
    "        random_beta = random.betavariate(numbers_of_rewards_1[i]+1,\n",
    "                                         numbers_of_rewards_0[i]+1)\n",
    "        if random_beta > max_random:\n",
    "            max_random = random_beta\n",
    "            num = i\n",
    "            \n",
    "    num_selected.append(num)\n",
    "    if X_balls[n, num] == 1:\n",
    "        numbers_of_rewards_1[num] += 1\n",
    "    else:\n",
    "        numbers_of_rewards_0[num] += 1\n",
    "        \n",
    "pick_five_balls = [i+1 for i, _ in Counter(num_selected).most_common(5)]"
   ]
  },
  {
   "cell_type": "markdown",
   "metadata": {},
   "source": [
    "## Step 5: Predict the Powerball"
   ]
  },
  {
   "cell_type": "code",
   "execution_count": 5,
   "metadata": {},
   "outputs": [],
   "source": [
    "# Predict winning Powerball number\n",
    "N = powerball.shape[0]\n",
    "d = 26\n",
    "num_selected = []\n",
    "numbers_of_rewards_1 = [0] * d\n",
    "numbers_of_rewards_0 = [0] * d\n",
    "for n in range(N):\n",
    "    max_random = 0\n",
    "    num = 0\n",
    "    for i in range(d):\n",
    "        random_beta = random.betavariate(numbers_of_rewards_1[i]+1,\n",
    "                                         numbers_of_rewards_0[i]+1)\n",
    "        if random_beta > max_random:\n",
    "            max_random = random_beta\n",
    "            num = i\n",
    "            \n",
    "    num_selected.append(num)\n",
    "    if X_powerball[n, num] == 1:\n",
    "        numbers_of_rewards_1[num] += 1\n",
    "    else:\n",
    "        numbers_of_rewards_0[num] += 1\n",
    "        \n",
    "pick_powerball = [i+1 for i, _ in Counter(num_selected).most_common(1)]"
   ]
  },
  {
   "cell_type": "markdown",
   "metadata": {},
   "source": [
    "## Step 6: Winning Powerball Numbers?"
   ]
  },
  {
   "cell_type": "code",
   "execution_count": 6,
   "metadata": {},
   "outputs": [
    {
     "name": "stdout",
     "output_type": "stream",
     "text": [
      "Powerball ticket to play:  [9, 10, 31, 46, 50] [21]\n"
     ]
    }
   ],
   "source": [
    "print('Powerball ticket to play: ', sorted(pick_five_balls), pick_powerball)"
   ]
  }
 ],
 "metadata": {
  "kernelspec": {
   "display_name": "Python 3",
   "language": "python",
   "name": "python3"
  },
  "language_info": {
   "codemirror_mode": {
    "name": "ipython",
    "version": 3
   },
   "file_extension": ".py",
   "mimetype": "text/x-python",
   "name": "python",
   "nbconvert_exporter": "python",
   "pygments_lexer": "ipython3",
   "version": "3.11.10"
  }
 },
 "nbformat": 4,
 "nbformat_minor": 2
}
