{
 "cells": [
  {
   "cell_type": "markdown",
   "metadata": {},
   "source": [
    "## Can we predict a winning Powerball ticket using randomly generated numbers based on past winners?"
   ]
  },
  {
   "cell_type": "markdown",
   "metadata": {},
   "source": [
    "## Importing necessary libraries"
   ]
  },
  {
   "cell_type": "code",
   "execution_count": 1,
   "metadata": {},
   "outputs": [],
   "source": [
    "import pandas as pd\n",
    "import numpy as np\n",
    "import random\n",
    "import math"
   ]
  },
  {
   "cell_type": "markdown",
   "metadata": {},
   "source": [
    "## Load the CSV file into a pandas DataFrame"
   ]
  },
  {
   "cell_type": "code",
   "execution_count": null,
   "metadata": {},
   "outputs": [],
   "source": [
    "file_name = 'PB-1992.csv'\n",
    "df = pd.read_csv(file_name)\n",
    "\n",
    "# Display the first few rows to verify loading\n",
    "df.head(15)"
   ]
  },
  {
   "cell_type": "markdown",
   "metadata": {},
   "source": [
    "## Function to select random numbers from the DataFrame"
   ]
  },
  {
   "cell_type": "code",
   "execution_count": 3,
   "metadata": {},
   "outputs": [],
   "source": [
    "def select_random_numbers(df):\n",
    "    random_ball1 = int(random.choice(df['ball1']))\n",
    "    random_ball2 = int(random.choice(df['ball2']))\n",
    "    random_ball3 = int(random.choice(df['ball3']))\n",
    "    random_ball4 = int(random.choice(df['ball4']))\n",
    "    random_ball5 = int(random.choice(df['ball5']))\n",
    "    random_powerball = int(random.choice(df['powerball']))\n",
    "    \n",
    "    return [random_ball1, random_ball2, random_ball3, random_ball4, random_ball5, random_powerball]"
   ]
  },
  {
   "cell_type": "markdown",
   "metadata": {},
   "source": [
    "## Function to calculate the odds of winning Powerball"
   ]
  },
  {
   "cell_type": "code",
   "execution_count": 4,
   "metadata": {},
   "outputs": [],
   "source": [
    "# Function to calculate combinations\n",
    "def calculate_combinations(n, k):\n",
    "    return math.comb(n, k)\n",
    "\n",
    "# Function to calculate the odds of winning Powerball\n",
    "def calculate_powerball_odds():\n",
    "    white_ball_combinations = calculate_combinations(69, 5)  # Combinations for white balls\n",
    "    powerball_combinations = 26  # Possibilities for the Powerball\n",
    "    total_odds = white_ball_combinations * powerball_combinations  # Total odds\n",
    "    return total_odds"
   ]
  },
  {
   "cell_type": "markdown",
   "metadata": {},
   "source": [
    "## Generate 5 sets of random numbers and print them"
   ]
  },
  {
   "cell_type": "code",
   "execution_count": null,
   "metadata": {},
   "outputs": [],
   "source": [
    "# Display the odds of winning Powerball\n",
    "odds = calculate_powerball_odds()\n",
    "print(f\"The odds of winning the Powerball jackpot are 1 in {odds:,}\\n\")\n",
    "\n",
    "random_sets = []\n",
    "\n",
    "for i in range(5):\n",
    "    random_set = select_random_numbers(df)\n",
    "    random_sets.append(random_set)\n",
    "    print(f\"Set {i+1}: {', '.join(map(str, random_set))} |<<== PowerBall is the last number in the set.\")\n",
    "\n",
    "# Display the odds of each set winning (it's the same for each)\n",
    "print(f\"\\nThe odds of each set winning are 1 in {odds:,}\")"
   ]
  }
 ],
 "metadata": {
  "kernelspec": {
   "display_name": "Python 3",
   "language": "python",
   "name": "python3"
  },
  "language_info": {
   "codemirror_mode": {
    "name": "ipython",
    "version": 3
   },
   "file_extension": ".py",
   "mimetype": "text/x-python",
   "name": "python",
   "nbconvert_exporter": "python",
   "pygments_lexer": "ipython3",
   "version": "3.11.10"
  }
 },
 "nbformat": 4,
 "nbformat_minor": 2
}
