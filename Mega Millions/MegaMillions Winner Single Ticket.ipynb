{
 "cells": [
  {
   "cell_type": "markdown",
   "metadata": {},
   "source": [
    "## Can we predict a Mega Millions winning ticket based only on the frequency of past winning numbers?"
   ]
  },
  {
   "cell_type": "markdown",
   "metadata": {},
   "source": [
    "## Step 1: Load the needed libraries."
   ]
  },
  {
   "cell_type": "code",
   "execution_count": 1,
   "metadata": {},
   "outputs": [],
   "source": [
    "import numpy as np\n",
    "import matplotlib.pyplot as plt\n",
    "import pandas as pd\n",
    "import random\n",
    "from collections import Counter"
   ]
  },
  {
   "cell_type": "markdown",
   "metadata": {},
   "source": [
    "## Step 2: Load the data"
   ]
  },
  {
   "cell_type": "code",
   "execution_count": 2,
   "metadata": {},
   "outputs": [],
   "source": [
    "dataset = pd.read_csv('MM_2002-3.csv')\n",
    "balls = dataset.iloc[:, 1:6].values\n",
    "megaball = dataset.iloc[:, -1].values"
   ]
  },
  {
   "cell_type": "markdown",
   "metadata": {},
   "source": [
    "## Step 3: Process the data"
   ]
  },
  {
   "cell_type": "code",
   "execution_count": 3,
   "metadata": {},
   "outputs": [],
   "source": [
    "# Pre-process data for algorithm\n",
    "X_balls = np.zeros((balls.shape[0], int(np.nanmax(balls))))\n",
    "\n",
    "# Adjust array size based on max value of Mega Ball\n",
    "X_megaball = np.zeros((megaball.shape[0], int(np.nanmax(megaball))))\n",
    "\n",
    "# Continue with the rest of the code\n",
    "for i in range(megaball.shape[0]):\n",
    "    if not np.isnan(megaball[i]):  # Check if the value is not NaN\n",
    "        X_megaball[i, int(megaball[i]) - 1] = 1\n",
    "    else:\n",
    "        # Handle the NaN case (e.g., skip or assign a default value)\n",
    "        print(f\"NaN found at index {i}, skipping or assigning default value.\")\n",
    "        # You can skip or do something like:\n",
    "        # X_megaball[i, default_value] = 1\n",
    "\n",
    "random.seed(0)"
   ]
  },
  {
   "cell_type": "markdown",
   "metadata": {},
   "source": [
    "## Step 4: Predict five winning numbers"
   ]
  },
  {
   "cell_type": "code",
   "execution_count": 4,
   "metadata": {},
   "outputs": [],
   "source": [
    "# Predict 5 winning numbers\n",
    "N = balls.shape[0]\n",
    "d = 69\n",
    "num_selected = []\n",
    "numbers_of_rewards_1 = [0] * d\n",
    "numbers_of_rewards_0 = [0] * d\n",
    "for n in range(N):\n",
    "    max_random = 0\n",
    "    num = 0\n",
    "    for i in range(d):\n",
    "        random_beta = random.betavariate(numbers_of_rewards_1[i]+1,\n",
    "                                         numbers_of_rewards_0[i]+1)\n",
    "        if random_beta > max_random:\n",
    "            max_random = random_beta\n",
    "            num = i\n",
    "            \n",
    "    num_selected.append(num)\n",
    "    if X_balls[n, num] == 1:\n",
    "        numbers_of_rewards_1[num] += 1\n",
    "    else:\n",
    "        numbers_of_rewards_0[num] += 1\n",
    "        \n",
    "pick_five_balls = [i+1 for i, _ in Counter(num_selected).most_common(5)]"
   ]
  },
  {
   "cell_type": "markdown",
   "metadata": {},
   "source": [
    "## Step 5: Predict the Mega Ball"
   ]
  },
  {
   "cell_type": "code",
   "execution_count": 5,
   "metadata": {},
   "outputs": [
    {
     "name": "stdout",
     "output_type": "stream",
     "text": [
      "Index 16 is out of bounds for X_megaball with size 5\n"
     ]
    }
   ],
   "source": [
    "# Predict winning Mega Ball number\n",
    "N = megaball.shape[0]\n",
    "d = 26\n",
    "num_selected = []\n",
    "numbers_of_rewards_1 = [0] * d\n",
    "numbers_of_rewards_0 = [0] * d\n",
    "for n in range(N):\n",
    "    max_random = 0\n",
    "    num = 0\n",
    "    for i in range(d):\n",
    "        random_beta = random.betavariate(numbers_of_rewards_1[i]+1,\n",
    "                                         numbers_of_rewards_0[i]+1)\n",
    "        if random_beta > max_random:\n",
    "            max_random = random_beta\n",
    "            num = i\n",
    "            \n",
    "    num_selected.append(num)\n",
    "    # Assuming n is the index of rows\n",
    "if num < X_megaball.shape[1]:  # Check if num is within bounds\n",
    "    if X_megaball[n, num] == 1:\n",
    "        numbers_of_rewards_1[num] += 1\n",
    "    else:\n",
    "        numbers_of_rewards_0[num] += 1\n",
    "else:\n",
    "    print(f\"Index {num} is out of bounds for X_megaball with size {X_megaball.shape[1]}\")\n",
    "        \n",
    "pick_megaball = [i+1 for i, _ in Counter(num_selected).most_common(1)]"
   ]
  },
  {
   "cell_type": "markdown",
   "metadata": {},
   "source": [
    "## Step 6: Winning Mega Millions Numbers?"
   ]
  },
  {
   "cell_type": "code",
   "execution_count": 6,
   "metadata": {},
   "outputs": [
    {
     "name": "stdout",
     "output_type": "stream",
     "text": [
      "Mega Millions ticket to play:  [40, 41, 46, 50, 52] [23]\n"
     ]
    }
   ],
   "source": [
    "print('Mega Millions ticket to play: ', sorted(pick_five_balls), pick_megaball)"
   ]
  }
 ],
 "metadata": {
  "kernelspec": {
   "display_name": "Python 3",
   "language": "python",
   "name": "python3"
  },
  "language_info": {
   "codemirror_mode": {
    "name": "ipython",
    "version": 3
   },
   "file_extension": ".py",
   "mimetype": "text/x-python",
   "name": "python",
   "nbconvert_exporter": "python",
   "pygments_lexer": "ipython3",
   "version": "3.11.10"
  }
 },
 "nbformat": 4,
 "nbformat_minor": 2
}
