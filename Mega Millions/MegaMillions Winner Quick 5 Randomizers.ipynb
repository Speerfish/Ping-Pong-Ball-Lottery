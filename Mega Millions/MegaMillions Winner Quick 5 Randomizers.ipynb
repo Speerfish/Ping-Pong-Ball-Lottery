{
 "cells": [
  {
   "cell_type": "markdown",
   "metadata": {},
   "source": [
    "## Can we predict a winning Mega Millions ticket using randomly generated numbers based on past winners?"
   ]
  },
  {
   "cell_type": "markdown",
   "metadata": {},
   "source": [
    "## Importing necessary libraries"
   ]
  },
  {
   "cell_type": "code",
   "execution_count": 1,
   "metadata": {},
   "outputs": [],
   "source": [
    "import pandas as pd\n",
    "import numpy as np\n",
    "import random"
   ]
  },
  {
   "cell_type": "markdown",
   "metadata": {},
   "source": [
    "## Load the CSV file into a pandas DataFrame"
   ]
  },
  {
   "cell_type": "code",
   "execution_count": null,
   "metadata": {},
   "outputs": [],
   "source": [
    "file_name = 'MM_2002-3.csv'\n",
    "df = pd.read_csv(file_name)\n",
    "\n",
    "# Display the first few rows to verify loading\n",
    "df.head(15)"
   ]
  },
  {
   "cell_type": "markdown",
   "metadata": {},
   "source": [
    "## Function to select random numbers from the DataFrame"
   ]
  },
  {
   "cell_type": "code",
   "execution_count": 3,
   "metadata": {},
   "outputs": [],
   "source": [
    "def select_random_numbers(df):\n",
    "    random_ball1 = int(random.choice(df['ball1']))\n",
    "    random_ball2 = int(random.choice(df['ball2']))\n",
    "    random_ball3 = int(random.choice(df['ball3']))\n",
    "    random_ball4 = int(random.choice(df['ball4']))\n",
    "    random_ball5 = int(random.choice(df['ball5']))\n",
    "    random_megaball = int(random.choice(df['megaball']))\n",
    "    \n",
    "    return [random_ball1, random_ball2, random_ball3, random_ball4, random_ball5, random_megaball]"
   ]
  },
  {
   "cell_type": "markdown",
   "metadata": {},
   "source": [
    "## Generate 5 sets of random numbers and print them"
   ]
  },
  {
   "cell_type": "code",
   "execution_count": null,
   "metadata": {},
   "outputs": [],
   "source": [
    "random_sets = []\n",
    "\n",
    "for i in range(5):\n",
    "    random_set = select_random_numbers(df)\n",
    "    random_sets.append(random_set)\n",
    "    print(f\"Set {i+1}: {', '.join(map(str, random_set))}\")\n"
   ]
  }
 ],
 "metadata": {
  "kernelspec": {
   "display_name": "Python 3",
   "language": "python",
   "name": "python3"
  },
  "language_info": {
   "codemirror_mode": {
    "name": "ipython",
    "version": 3
   },
   "file_extension": ".py",
   "mimetype": "text/x-python",
   "name": "python",
   "nbconvert_exporter": "python",
   "pygments_lexer": "ipython3",
   "version": "3.11.10"
  }
 },
 "nbformat": 4,
 "nbformat_minor": 2
}
